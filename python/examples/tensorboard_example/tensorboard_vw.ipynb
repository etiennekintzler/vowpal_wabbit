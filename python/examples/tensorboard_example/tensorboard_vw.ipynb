{
 "cells": [
  {
   "cell_type": "code",
   "execution_count": 59,
   "metadata": {},
   "outputs": [],
   "source": [
    "import shutil\n",
    "import re\n",
    "\n",
    "import pandas as pd\n",
    "from tensorboardX import SummaryWriter"
   ]
  },
  {
   "cell_type": "code",
   "execution_count": 65,
   "metadata": {},
   "outputs": [],
   "source": [
    "class VWOutputParser:\n",
    "    \n",
    "    def __init__(self, fname):\n",
    "        self.fname = fname\n",
    "\n",
    "    def parse_vw_output(self):\n",
    "        \"\"\"Parse the output from `vw` command, return dataframe/dictionnaries with the associated data\"\"\"\n",
    "        table_lst = []\n",
    "        params = {}\n",
    "        metrics = {}\n",
    "\n",
    "        inside_table = False\n",
    "        after_table = False\n",
    "\n",
    "        with open(self.fname, \"r\") as f:\n",
    "            for row in f:\n",
    "                if \"=\" in row:\n",
    "                    param_name, value = [element.strip() for element in row.split(\"=\")]\n",
    "                    if after_table:\n",
    "                        metrics[param_name] = value\n",
    "                    else:\n",
    "                        params[param_name] = value\n",
    "                elif \":\" in row:\n",
    "                    key, value = [element.strip() for element in row.split(\":\")]\n",
    "                    params[param_name] = value\n",
    "                \n",
    "                elif not after_table:\n",
    "                    if re.match(\"average\\s+since\", row):\n",
    "                        inside_table = True\n",
    "                    if row == \"\\n\":\n",
    "                        inside_table = False\n",
    "                        after_table = True\n",
    "                    if inside_table:\n",
    "                        table_lst += [row.split()]\n",
    "\n",
    "        df = pd.DataFrame(data=table_lst[2:], columns=[f\"{x}_{y}\" for x,y in zip(*table_lst[:2])])\n",
    "        \n",
    "        self.params = params\n",
    "        self.df = df\n",
    "        self.metrics = metrics\n",
    "\n",
    "    def write_to_tensorboard(self, writer):\n",
    "        \"\"\"Write VW parsed data into tensorboard\"\"\"\n",
    "        clean_params = {}\n",
    "        for (key, value) in self.params.items():\n",
    "            try:\n",
    "                out = float(value)\n",
    "            except:\n",
    "                out = value\n",
    "            key = f\"hparam/{key}\"\n",
    "            clean_params[key] = out\n",
    "\n",
    "        clean_metrics = {}\n",
    "        for (key, value) in self.metrics.items():\n",
    "            try:\n",
    "                out = float(value)\n",
    "            except:\n",
    "                out = value\n",
    "            key = key.replace(\" \", \"_\").replace(\"'\", '_')\n",
    "            key = f\"metric/{key}\"\n",
    "            clean_metrics[key] = out\n",
    "\n",
    "        # Write hparams & metrics into tensorboard\n",
    "        writer.add_hparams(hparam_dict=clean_params, metric_dict=clean_metrics)\n",
    "\n",
    "        # Write scalar data into tensorboard\n",
    "        for _, row in self.df.iterrows():\n",
    "            for key in row.keys():\n",
    "                writer.add_scalar(f'data/{key}', float(row[key]), row.example_counter)"
   ]
  },
  {
   "cell_type": "markdown",
   "metadata": {},
   "source": [
    "# Parsing output files"
   ]
  },
  {
   "cell_type": "markdown",
   "metadata": {},
   "source": [
    "Assume we have 2 files \"out_lr_0.1.out\" and \"out_lr_0.5.out\" that contain the output of `vw` command. We use the class i) parse the VW output and ii) write these parsed output to tensorboard."
   ]
  },
  {
   "cell_type": "code",
   "execution_count": 67,
   "metadata": {},
   "outputs": [],
   "source": [
    "shutil.rmtree('runs', ignore_errors=True) # Remove the \"runs\" folder (if it exists)\n",
    "\n",
    "for fname in [\"out_lr_0.1.out\", \"out_lr_0.5.out\"]:\n",
    "    with SummaryWriter(f\"runs/{fname}\") as writer:\n",
    "        output_parser = VWOutputParser(fname)\n",
    "        output_parser.parse_vw_output() # Parse the output and store the parsed result in instance attributes\n",
    "        output_parser.write_to_tensorboard(writer) # Write the parsed result to tensorboard files"
   ]
  },
  {
   "cell_type": "markdown",
   "metadata": {},
   "source": [
    "We can inspect the parsed output by displaying the attributes `params`, `df` and `metrics` (in this example I use the file \"out_lr_0.5.out\"):"
   ]
  },
  {
   "cell_type": "code",
   "execution_count": 68,
   "metadata": {},
   "outputs": [
    {
     "name": "stdout",
     "output_type": "stream",
     "text": [
      "Parameters:\n"
     ]
    },
    {
     "data": {
      "text/plain": [
       "{'Num weight bits': '18',\n",
       " 'learning rate': '0.5',\n",
       " 'initial_t': '0',\n",
       " 'power_t': '0.5',\n",
       " 'Reading datafile': 'boston.txt',\n",
       " 'num sources': 'gd, scorer'}"
      ]
     },
     "metadata": {},
     "output_type": "display_data"
    },
    {
     "name": "stdout",
     "output_type": "stream",
     "text": [
      "\n",
      "\n",
      "\n",
      "Dataframe:\n"
     ]
    },
    {
     "data": {
      "text/html": [
       "<div>\n",
       "<style scoped>\n",
       "    .dataframe tbody tr th:only-of-type {\n",
       "        vertical-align: middle;\n",
       "    }\n",
       "\n",
       "    .dataframe tbody tr th {\n",
       "        vertical-align: top;\n",
       "    }\n",
       "\n",
       "    .dataframe thead th {\n",
       "        text-align: right;\n",
       "    }\n",
       "</style>\n",
       "<table border=\"1\" class=\"dataframe\">\n",
       "  <thead>\n",
       "    <tr style=\"text-align: right;\">\n",
       "      <th></th>\n",
       "      <th>average_loss</th>\n",
       "      <th>since_last</th>\n",
       "      <th>example_counter</th>\n",
       "      <th>example_weight</th>\n",
       "      <th>current_label</th>\n",
       "      <th>current_predict</th>\n",
       "      <th>current_features</th>\n",
       "    </tr>\n",
       "  </thead>\n",
       "  <tbody>\n",
       "    <tr>\n",
       "      <th>0</th>\n",
       "      <td>1.000000</td>\n",
       "      <td>1.000000</td>\n",
       "      <td>1</td>\n",
       "      <td>1.0</td>\n",
       "      <td>1.0000</td>\n",
       "      <td>0.0000</td>\n",
       "      <td>15</td>\n",
       "    </tr>\n",
       "    <tr>\n",
       "      <th>1</th>\n",
       "      <td>0.500000</td>\n",
       "      <td>0.000000</td>\n",
       "      <td>2</td>\n",
       "      <td>2.0</td>\n",
       "      <td>1.0000</td>\n",
       "      <td>1.0000</td>\n",
       "      <td>15</td>\n",
       "    </tr>\n",
       "    <tr>\n",
       "      <th>2</th>\n",
       "      <td>0.504930</td>\n",
       "      <td>0.509860</td>\n",
       "      <td>4</td>\n",
       "      <td>4.0</td>\n",
       "      <td>1.0000</td>\n",
       "      <td>0.5378</td>\n",
       "      <td>15</td>\n",
       "    </tr>\n",
       "    <tr>\n",
       "      <th>3</th>\n",
       "      <td>0.323170</td>\n",
       "      <td>0.141410</td>\n",
       "      <td>8</td>\n",
       "      <td>8.0</td>\n",
       "      <td>1.0000</td>\n",
       "      <td>1.0000</td>\n",
       "      <td>15</td>\n",
       "    </tr>\n",
       "    <tr>\n",
       "      <th>4</th>\n",
       "      <td>0.161594</td>\n",
       "      <td>0.000018</td>\n",
       "      <td>16</td>\n",
       "      <td>16.0</td>\n",
       "      <td>1.0000</td>\n",
       "      <td>1.0000</td>\n",
       "      <td>15</td>\n",
       "    </tr>\n",
       "    <tr>\n",
       "      <th>5</th>\n",
       "      <td>0.217465</td>\n",
       "      <td>0.273335</td>\n",
       "      <td>32</td>\n",
       "      <td>32.0</td>\n",
       "      <td>1.0000</td>\n",
       "      <td>0.4531</td>\n",
       "      <td>16</td>\n",
       "    </tr>\n",
       "    <tr>\n",
       "      <th>6</th>\n",
       "      <td>0.150157</td>\n",
       "      <td>0.082850</td>\n",
       "      <td>64</td>\n",
       "      <td>64.0</td>\n",
       "      <td>0.0000</td>\n",
       "      <td>0.0260</td>\n",
       "      <td>16</td>\n",
       "    </tr>\n",
       "    <tr>\n",
       "      <th>7</th>\n",
       "      <td>0.099326</td>\n",
       "      <td>0.048496</td>\n",
       "      <td>128</td>\n",
       "      <td>128.0</td>\n",
       "      <td>1.0000</td>\n",
       "      <td>0.8743</td>\n",
       "      <td>15</td>\n",
       "    </tr>\n",
       "    <tr>\n",
       "      <th>8</th>\n",
       "      <td>0.113688</td>\n",
       "      <td>0.128049</td>\n",
       "      <td>256</td>\n",
       "      <td>256.0</td>\n",
       "      <td>0.0000</td>\n",
       "      <td>0.1814</td>\n",
       "      <td>15</td>\n",
       "    </tr>\n",
       "    <tr>\n",
       "      <th>9</th>\n",
       "      <td>0.098885</td>\n",
       "      <td>0.084081</td>\n",
       "      <td>512</td>\n",
       "      <td>512.0</td>\n",
       "      <td>0.0000</td>\n",
       "      <td>0.0000</td>\n",
       "      <td>14</td>\n",
       "    </tr>\n",
       "    <tr>\n",
       "      <th>10</th>\n",
       "      <td>0.083218</td>\n",
       "      <td>0.067552</td>\n",
       "      <td>1024</td>\n",
       "      <td>1024.0</td>\n",
       "      <td>0.0000</td>\n",
       "      <td>0.0292</td>\n",
       "      <td>16</td>\n",
       "    </tr>\n",
       "    <tr>\n",
       "      <th>11</th>\n",
       "      <td>0.076015</td>\n",
       "      <td>0.068811</td>\n",
       "      <td>2048</td>\n",
       "      <td>2048.0</td>\n",
       "      <td>0.0000</td>\n",
       "      <td>0.0000</td>\n",
       "      <td>16</td>\n",
       "    </tr>\n",
       "    <tr>\n",
       "      <th>12</th>\n",
       "      <td>0.075771</td>\n",
       "      <td>0.075528</td>\n",
       "      <td>4096</td>\n",
       "      <td>4096.0</td>\n",
       "      <td>0.0000</td>\n",
       "      <td>0.0000</td>\n",
       "      <td>14</td>\n",
       "    </tr>\n",
       "    <tr>\n",
       "      <th>13</th>\n",
       "      <td>0.078959</td>\n",
       "      <td>0.082146</td>\n",
       "      <td>8192</td>\n",
       "      <td>8192.0</td>\n",
       "      <td>1.0000</td>\n",
       "      <td>1.0000</td>\n",
       "      <td>15</td>\n",
       "    </tr>\n",
       "    <tr>\n",
       "      <th>14</th>\n",
       "      <td>0.084353</td>\n",
       "      <td>0.089748</td>\n",
       "      <td>16384</td>\n",
       "      <td>16384.0</td>\n",
       "      <td>0.0000</td>\n",
       "      <td>0.3927</td>\n",
       "      <td>15</td>\n",
       "    </tr>\n",
       "  </tbody>\n",
       "</table>\n",
       "</div>"
      ],
      "text/plain": [
       "   average_loss since_last example_counter example_weight current_label  \\\n",
       "0      1.000000   1.000000               1            1.0        1.0000   \n",
       "1      0.500000   0.000000               2            2.0        1.0000   \n",
       "2      0.504930   0.509860               4            4.0        1.0000   \n",
       "3      0.323170   0.141410               8            8.0        1.0000   \n",
       "4      0.161594   0.000018              16           16.0        1.0000   \n",
       "5      0.217465   0.273335              32           32.0        1.0000   \n",
       "6      0.150157   0.082850              64           64.0        0.0000   \n",
       "7      0.099326   0.048496             128          128.0        1.0000   \n",
       "8      0.113688   0.128049             256          256.0        0.0000   \n",
       "9      0.098885   0.084081             512          512.0        0.0000   \n",
       "10     0.083218   0.067552            1024         1024.0        0.0000   \n",
       "11     0.076015   0.068811            2048         2048.0        0.0000   \n",
       "12     0.075771   0.075528            4096         4096.0        0.0000   \n",
       "13     0.078959   0.082146            8192         8192.0        1.0000   \n",
       "14     0.084353   0.089748           16384        16384.0        0.0000   \n",
       "\n",
       "   current_predict current_features  \n",
       "0           0.0000               15  \n",
       "1           1.0000               15  \n",
       "2           0.5378               15  \n",
       "3           1.0000               15  \n",
       "4           1.0000               15  \n",
       "5           0.4531               16  \n",
       "6           0.0260               16  \n",
       "7           0.8743               15  \n",
       "8           0.1814               15  \n",
       "9           0.0000               14  \n",
       "10          0.0292               16  \n",
       "11          0.0000               16  \n",
       "12          0.0000               14  \n",
       "13          1.0000               15  \n",
       "14          0.3927               15  "
      ]
     },
     "metadata": {},
     "output_type": "display_data"
    },
    {
     "name": "stdout",
     "output_type": "stream",
     "text": [
      "\n",
      "\n",
      "Metrics\n"
     ]
    },
    {
     "data": {
      "text/plain": [
       "{'number of examples': '16599',\n",
       " 'weighted example sum': '16599.000000',\n",
       " 'weighted label sum': '5130.000000',\n",
       " 'average loss': '0.085618',\n",
       " 'best constant': '0.309055',\n",
       " \"best constant's loss\": '0.213540',\n",
       " 'total feature number': '250958'}"
      ]
     },
     "metadata": {},
     "output_type": "display_data"
    }
   ],
   "source": [
    "print(\"Parameters:\")\n",
    "display(output_parser.params)\n",
    "print(\"\\n\\n\")\n",
    "print(\"Dataframe:\")\n",
    "display(output_parser.df)\n",
    "print(\"\\n\")\n",
    "\n",
    "print(\"Metrics\")\n",
    "display(output_parser.metrics)"
   ]
  },
  {
   "cell_type": "markdown",
   "metadata": {},
   "source": [
    "It is the same information as in original output fiule:"
   ]
  },
  {
   "cell_type": "code",
   "execution_count": 69,
   "metadata": {},
   "outputs": [
    {
     "name": "stdout",
     "output_type": "stream",
     "text": [
      "Num weight bits = 18\n",
      "\n",
      "learning rate = 0.5\n",
      "\n",
      "initial_t = 0\n",
      "\n",
      "power_t = 0.5\n",
      "\n",
      "using no cache\n",
      "\n",
      "Reading datafile = boston.txt\n",
      "\n",
      "num sources = 1\n",
      "\n",
      "Enabled reductions: gd, scorer\n",
      "\n",
      "average  since         example        example  current  current  current\n",
      "\n",
      "loss     last          counter         weight    label  predict features\n",
      "\n",
      "1.000000 1.000000            1            1.0   1.0000   0.0000       15\n",
      "\n",
      "0.500000 0.000000            2            2.0   1.0000   1.0000       15\n",
      "\n",
      "0.504930 0.509860            4            4.0   1.0000   0.5378       15\n",
      "\n",
      "0.323170 0.141410            8            8.0   1.0000   1.0000       15\n",
      "\n",
      "0.161594 0.000018           16           16.0   1.0000   1.0000       15\n",
      "\n",
      "0.217465 0.273335           32           32.0   1.0000   0.4531       16\n",
      "\n",
      "0.150157 0.082850           64           64.0   0.0000   0.0260       16\n",
      "\n",
      "0.099326 0.048496          128          128.0   1.0000   0.8743       15\n",
      "\n",
      "0.113688 0.128049          256          256.0   0.0000   0.1814       15\n",
      "\n",
      "0.098885 0.084081          512          512.0   0.0000   0.0000       14\n",
      "\n",
      "0.083218 0.067552         1024         1024.0   0.0000   0.0292       16\n",
      "\n",
      "0.076015 0.068811         2048         2048.0   0.0000   0.0000       16\n",
      "\n",
      "0.075771 0.075528         4096         4096.0   0.0000   0.0000       14\n",
      "\n",
      "0.078959 0.082146         8192         8192.0   1.0000   1.0000       15\n",
      "\n",
      "0.084353 0.089748        16384        16384.0   0.0000   0.3927       15\n",
      "\n",
      "\n",
      "\n",
      "finished run\n",
      "\n",
      "number of examples = 16599\n",
      "\n",
      "weighted example sum = 16599.000000\n",
      "\n",
      "weighted label sum = 5130.000000\n",
      "\n",
      "average loss = 0.085618\n",
      "\n",
      "best constant = 0.309055\n",
      "\n",
      "best constant's loss = 0.213540\n",
      "\n",
      "total feature number = 250958\n",
      "\n"
     ]
    }
   ],
   "source": [
    "with open(fname, \"r\") as f:\n",
    "    for line in f:\n",
    "        print(line)"
   ]
  },
  {
   "cell_type": "markdown",
   "metadata": {},
   "source": [
    "# Visualizing on tensorboard"
   ]
  },
  {
   "cell_type": "code",
   "execution_count": 70,
   "metadata": {},
   "outputs": [
    {
     "name": "stdout",
     "output_type": "stream",
     "text": [
      "The tensorboard extension is already loaded. To reload it, use:\n",
      "  %reload_ext tensorboard\n"
     ]
    }
   ],
   "source": [
    "%load_ext tensorboard"
   ]
  },
  {
   "cell_type": "code",
   "execution_count": 71,
   "metadata": {},
   "outputs": [
    {
     "data": {
      "text/plain": [
       "Reusing TensorBoard on port 6008 (pid 25242), started 0:10:08 ago. (Use '!kill 25242' to kill it.)"
      ]
     },
     "metadata": {},
     "output_type": "display_data"
    },
    {
     "data": {
      "text/html": [
       "\n",
       "      <iframe id=\"tensorboard-frame-f8217cd416c53534\" width=\"100%\" height=\"800\" frameborder=\"0\">\n",
       "      </iframe>\n",
       "      <script>\n",
       "        (function() {\n",
       "          const frame = document.getElementById(\"tensorboard-frame-f8217cd416c53534\");\n",
       "          const url = new URL(\"/\", window.location);\n",
       "          const port = 6008;\n",
       "          if (port) {\n",
       "            url.port = port;\n",
       "          }\n",
       "          frame.src = url;\n",
       "        })();\n",
       "      </script>\n",
       "    "
      ],
      "text/plain": [
       "<IPython.core.display.HTML object>"
      ]
     },
     "metadata": {},
     "output_type": "display_data"
    }
   ],
   "source": [
    "%tensorboard --logdir runs --host localhost"
   ]
  },
  {
   "cell_type": "code",
   "execution_count": null,
   "metadata": {},
   "outputs": [],
   "source": []
  }
 ],
 "metadata": {
  "kernelspec": {
   "display_name": "py36",
   "language": "python",
   "name": "py36"
  },
  "language_info": {
   "codemirror_mode": {
    "name": "ipython",
    "version": 3
   },
   "file_extension": ".py",
   "mimetype": "text/x-python",
   "name": "python",
   "nbconvert_exporter": "python",
   "pygments_lexer": "ipython3",
   "version": "3.6.9"
  }
 },
 "nbformat": 4,
 "nbformat_minor": 4
}
